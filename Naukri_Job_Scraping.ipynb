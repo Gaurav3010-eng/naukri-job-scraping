{
 "cells": [
  {
   "cell_type": "code",
   "execution_count": 1,
   "id": "34fd2685-57c2-4221-b063-baa70cfc2f26",
   "metadata": {},
   "outputs": [
    {
     "name": "stdout",
     "output_type": "stream",
     "text": [
      "Requirement already satisfied: beautifulsoup4 in c:\\users\\gaurav rane\\anaconda3\\lib\\site-packages (4.12.2)\n",
      "Requirement already satisfied: selenium in c:\\users\\gaurav rane\\anaconda3\\lib\\site-packages (4.22.0)\n",
      "Requirement already satisfied: pandas in c:\\users\\gaurav rane\\anaconda3\\lib\\site-packages (2.1.4)\n",
      "Requirement already satisfied: soupsieve>1.2 in c:\\users\\gaurav rane\\anaconda3\\lib\\site-packages (from beautifulsoup4) (2.5)\n",
      "Requirement already satisfied: urllib3<3,>=1.26 in c:\\users\\gaurav rane\\anaconda3\\lib\\site-packages (from urllib3[socks]<3,>=1.26->selenium) (2.0.7)\n",
      "Requirement already satisfied: trio~=0.17 in c:\\users\\gaurav rane\\anaconda3\\lib\\site-packages (from selenium) (0.26.0)\n",
      "Requirement already satisfied: trio-websocket~=0.9 in c:\\users\\gaurav rane\\anaconda3\\lib\\site-packages (from selenium) (0.11.1)\n",
      "Requirement already satisfied: certifi>=2021.10.8 in c:\\users\\gaurav rane\\anaconda3\\lib\\site-packages (from selenium) (2024.2.2)\n",
      "Requirement already satisfied: typing_extensions>=4.9.0 in c:\\users\\gaurav rane\\anaconda3\\lib\\site-packages (from selenium) (4.9.0)\n",
      "Requirement already satisfied: websocket-client>=1.8.0 in c:\\users\\gaurav rane\\anaconda3\\lib\\site-packages (from selenium) (1.8.0)\n",
      "Requirement already satisfied: numpy<2,>=1.23.2 in c:\\users\\gaurav rane\\anaconda3\\lib\\site-packages (from pandas) (1.26.4)\n",
      "Requirement already satisfied: python-dateutil>=2.8.2 in c:\\users\\gaurav rane\\anaconda3\\lib\\site-packages (from pandas) (2.8.2)\n",
      "Requirement already satisfied: pytz>=2020.1 in c:\\users\\gaurav rane\\anaconda3\\lib\\site-packages (from pandas) (2023.3.post1)\n",
      "Requirement already satisfied: tzdata>=2022.1 in c:\\users\\gaurav rane\\anaconda3\\lib\\site-packages (from pandas) (2023.3)\n",
      "Requirement already satisfied: six>=1.5 in c:\\users\\gaurav rane\\anaconda3\\lib\\site-packages (from python-dateutil>=2.8.2->pandas) (1.16.0)\n",
      "Requirement already satisfied: attrs>=23.2.0 in c:\\users\\gaurav rane\\anaconda3\\lib\\site-packages (from trio~=0.17->selenium) (23.2.0)\n",
      "Requirement already satisfied: sortedcontainers in c:\\users\\gaurav rane\\anaconda3\\lib\\site-packages (from trio~=0.17->selenium) (2.4.0)\n",
      "Requirement already satisfied: idna in c:\\users\\gaurav rane\\anaconda3\\lib\\site-packages (from trio~=0.17->selenium) (3.4)\n",
      "Requirement already satisfied: outcome in c:\\users\\gaurav rane\\anaconda3\\lib\\site-packages (from trio~=0.17->selenium) (1.3.0.post0)\n",
      "Requirement already satisfied: sniffio>=1.3.0 in c:\\users\\gaurav rane\\anaconda3\\lib\\site-packages (from trio~=0.17->selenium) (1.3.0)\n",
      "Requirement already satisfied: cffi>=1.14 in c:\\users\\gaurav rane\\anaconda3\\lib\\site-packages (from trio~=0.17->selenium) (1.16.0)\n",
      "Requirement already satisfied: wsproto>=0.14 in c:\\users\\gaurav rane\\anaconda3\\lib\\site-packages (from trio-websocket~=0.9->selenium) (1.2.0)\n",
      "Requirement already satisfied: pysocks!=1.5.7,<2.0,>=1.5.6 in c:\\users\\gaurav rane\\anaconda3\\lib\\site-packages (from urllib3[socks]<3,>=1.26->selenium) (1.7.1)\n",
      "Requirement already satisfied: pycparser in c:\\users\\gaurav rane\\anaconda3\\lib\\site-packages (from cffi>=1.14->trio~=0.17->selenium) (2.21)\n",
      "Requirement already satisfied: h11<1,>=0.9.0 in c:\\users\\gaurav rane\\anaconda3\\lib\\site-packages (from wsproto>=0.14->trio-websocket~=0.9->selenium) (0.14.0)\n",
      "Note: you may need to restart the kernel to use updated packages.\n"
     ]
    }
   ],
   "source": [
    "pip install beautifulsoup4 selenium pandas\n"
   ]
  },
  {
   "cell_type": "code",
   "execution_count": 6,
   "id": "d6dbfd3b-e42d-4f51-98a2-c32b7e68144e",
   "metadata": {},
   "outputs": [],
   "source": [
    "from bs4 import BeautifulSoup\n",
    "from selenium import webdriver\n",
    "from selenium.webdriver.chrome.service import Service\n",
    "from selenium.webdriver.chrome.options import Options\n",
    "import pandas as pd\n",
    "import time"
   ]
  },
  {
   "cell_type": "code",
   "execution_count": 7,
   "id": "7b149c8f-00ba-4cfc-aa61-c9b83e4e3b34",
   "metadata": {},
   "outputs": [],
   "source": [
    "# Path to ChromeDriver\n",
    "chrome_driver_path = r'C:\\Users\\Gaurav Rane\\OneDrive\\Documents\\chromedriver-win64\\chromedriver.exe'\n"
   ]
  },
  {
   "cell_type": "code",
   "execution_count": 8,
   "id": "c99caa75-fb11-4fd9-82f4-e763697cdd81",
   "metadata": {},
   "outputs": [],
   "source": [
    "options = Options()\n",
    "options.add_argument('--headless')"
   ]
  },
  {
   "cell_type": "code",
   "execution_count": 9,
   "id": "09951fae-80e4-40c3-b4de-a18dd5f9850b",
   "metadata": {},
   "outputs": [],
   "source": [
    "# Initialize Chrome WebDriver\n",
    "driver = webdriver.Chrome(service=Service(chrome_driver_path), options=options)"
   ]
  },
  {
   "cell_type": "code",
   "execution_count": 16,
   "id": "1379faf2-842d-437f-8217-1594f3826155",
   "metadata": {},
   "outputs": [],
   "source": [
    "# Navigate to Naukri.com\n",
    "driver.get('https://www.naukri.com/')"
   ]
  },
  {
   "cell_type": "code",
   "execution_count": 11,
   "id": "751ed402-8083-4cae-a740-cc2ba67c5518",
   "metadata": {},
   "outputs": [],
   "source": [
    "time.sleep(5) "
   ]
  },
  {
   "cell_type": "code",
   "execution_count": 12,
   "id": "811c7f70-9dd9-4f83-8e62-44ebc715fde5",
   "metadata": {},
   "outputs": [],
   "source": [
    "# Extract HTML content\n",
    "html = driver.page_source\n",
    "soup = BeautifulSoup(html, 'html.parser')"
   ]
  },
  {
   "cell_type": "code",
   "execution_count": 13,
   "id": "8986a188-3722-4994-9a0d-9dd055ca77b7",
   "metadata": {},
   "outputs": [],
   "source": [
    "# Find job listings\n",
    "jobs = soup.find_all('div', class_='jobTuple')"
   ]
  },
  {
   "cell_type": "code",
   "execution_count": 14,
   "id": "989077cd-c678-4615-9613-778204c5b347",
   "metadata": {},
   "outputs": [],
   "source": [
    "# Initialize empty list to store job data\n",
    "job_data = []"
   ]
  },
  {
   "cell_type": "code",
   "execution_count": 15,
   "id": "441dc6b6-2681-4484-9a57-3149a4fa9672",
   "metadata": {},
   "outputs": [],
   "source": [
    "# Extract job details\n",
    "for job in jobs:\n",
    "    title = job.find('a', class_='title').text.strip()\n",
    "    company = job.find('a', class_='subTitle').text.strip()\n",
    "    location = job.find('li', class_='location').text.strip()\n",
    "    salary = job.find('li', class_='salary').text.strip()\n",
    "    \n",
    "    job_data.append({\n",
    "        'Title': title,\n",
    "        'Company': company,\n",
    "        'Location': location,\n",
    "        'Salary': salary\n",
    "    })"
   ]
  },
  {
   "cell_type": "code",
   "execution_count": 17,
   "id": "c77d07d1-5328-4532-8063-f9b163cd51b4",
   "metadata": {},
   "outputs": [],
   "source": [
    "# Close the WebDriver\n",
    "driver.quit()"
   ]
  },
  {
   "cell_type": "code",
   "execution_count": 18,
   "id": "c860e9e1-5ace-4f27-b3ee-77b642533fb5",
   "metadata": {},
   "outputs": [],
   "source": [
    "# Convert to DataFrame\n",
    "df = pd.DataFrame(job_data)"
   ]
  },
  {
   "cell_type": "code",
   "execution_count": 19,
   "id": "79c51d1a-ebe9-4c00-817b-d10e6753ab67",
   "metadata": {},
   "outputs": [
    {
     "name": "stdout",
     "output_type": "stream",
     "text": [
      "Job data saved to naukri_jobs.csv\n"
     ]
    }
   ],
   "source": [
    "# CSV files\n",
    "csv_file_path = 'naukri_jobs.csv'\n",
    "df.to_csv(csv_file_path, index=False)\n",
    "print(f\"Job data saved to {csv_file_path}\")"
   ]
  },
  {
   "cell_type": "code",
   "execution_count": null,
   "id": "c4823bad-d42c-48d2-9ef6-530d9f6beac1",
   "metadata": {},
   "outputs": [],
   "source": []
  }
 ],
 "metadata": {
  "kernelspec": {
   "display_name": "Python 3 (ipykernel)",
   "language": "python",
   "name": "python3"
  },
  "language_info": {
   "codemirror_mode": {
    "name": "ipython",
    "version": 3
   },
   "file_extension": ".py",
   "mimetype": "text/x-python",
   "name": "python",
   "nbconvert_exporter": "python",
   "pygments_lexer": "ipython3",
   "version": "3.11.7"
  }
 },
 "nbformat": 4,
 "nbformat_minor": 5
}
